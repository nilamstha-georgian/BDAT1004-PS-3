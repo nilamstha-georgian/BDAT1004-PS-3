{
 "cells": [
  {
   "cell_type": "markdown",
   "id": "d04ed533",
   "metadata": {},
   "source": [
    "# Question 1\n",
    "Occupation"
   ]
  },
  {
   "cell_type": "code",
   "execution_count": 11,
   "id": "9621ec76",
   "metadata": {},
   "outputs": [],
   "source": [
    "# Step 1: Import the necessary libraries\n",
    "import pandas as pd"
   ]
  },
  {
   "cell_type": "code",
   "execution_count": 14,
   "id": "6ad4d303",
   "metadata": {},
   "outputs": [],
   "source": [
    "# Step 2: Import the dataset\n",
    "file_path = \"C:\\\\Users\\\\User\\\\Downloads\\\\Data_Programming\\\\user.txt\"\n",
    "# Replace \"https://your_dataset_address_here.csv\" with the actual URL of your dataset\n",
    "users = pd.read_csv(file_path, sep='|')\n"
   ]
  },
  {
   "cell_type": "code",
   "execution_count": 20,
   "id": "3873393e",
   "metadata": {},
   "outputs": [
    {
     "name": "stdout",
     "output_type": "stream",
     "text": [
      "List of Mean Age per Occupation:\n",
      "\n",
      "occupation\n",
      "administrator    38.746835\n",
      "artist           31.392857\n",
      "doctor           43.571429\n",
      "educator         42.010526\n",
      "engineer         36.388060\n",
      "entertainment    29.222222\n",
      "executive        38.718750\n",
      "healthcare       41.562500\n",
      "homemaker        32.571429\n",
      "lawyer           36.750000\n",
      "librarian        40.000000\n",
      "marketing        37.615385\n",
      "none             26.555556\n",
      "other            34.523810\n",
      "programmer       33.121212\n",
      "retired          63.071429\n",
      "salesman         35.666667\n",
      "scientist        35.548387\n",
      "student          22.081633\n",
      "technician       33.148148\n",
      "writer           36.311111\n",
      "Name: age, dtype: float64\n"
     ]
    }
   ],
   "source": [
    "# Step 3: Discover the mean age per occupation\n",
    "mean_age_per_occupation = users.groupby('occupation')['age'].mean()\n",
    "\n",
    "# Print the mean age per occupation\n",
    "print(\"List of Mean Age per Occupation:\\n\")\n",
    "print(mean_age_per_occupation)\n"
   ]
  },
  {
   "cell_type": "code",
   "execution_count": 25,
   "id": "382ecf0a",
   "metadata": {},
   "outputs": [
    {
     "name": "stdout",
     "output_type": "stream",
     "text": [
      "List of Male Ratio per Occupation in Descending Order\n",
      "\n",
      "occupation\n",
      "doctor           1.000000\n",
      "engineer         0.970149\n",
      "technician       0.962963\n",
      "retired          0.928571\n",
      "programmer       0.909091\n",
      "executive        0.906250\n",
      "scientist        0.903226\n",
      "entertainment    0.888889\n",
      "lawyer           0.833333\n",
      "salesman         0.750000\n",
      "educator         0.726316\n",
      "student          0.693878\n",
      "other            0.657143\n",
      "marketing        0.615385\n",
      "writer           0.577778\n",
      "none             0.555556\n",
      "administrator    0.544304\n",
      "artist           0.535714\n",
      "librarian        0.431373\n",
      "healthcare       0.312500\n",
      "homemaker        0.142857\n",
      "Name: Male Ratio, dtype: float64\n"
     ]
    }
   ],
   "source": [
    "# Step 4: Discover the Male ratio per occupation and sort it\n",
    "male_ratio_per_occupation = users.groupby(['occupation', 'gender']).size().unstack().fillna(0)\n",
    "male_ratio_per_occupation['Male Ratio'] = male_ratio_per_occupation['M'] / (male_ratio_per_occupation['M'] + male_ratio_per_occupation['F'])\n",
    "sorted_male_ratio = male_ratio_per_occupation['Male Ratio'].sort_values(ascending=False)\n",
    "print(\"List of Male Ratio per Occupation in Descending Order\\n\")\n",
    "print(sorted_male_ratio)"
   ]
  },
  {
   "cell_type": "code",
   "execution_count": 26,
   "id": "df450293",
   "metadata": {},
   "outputs": [
    {
     "name": "stdout",
     "output_type": "stream",
     "text": [
      "List of Male Count per Occupation in Descending Order\n",
      "\n",
      "occupation\n",
      "student          136\n",
      "other             69\n",
      "educator          69\n",
      "engineer          65\n",
      "programmer        60\n",
      "administrator     43\n",
      "executive         29\n",
      "scientist         28\n",
      "technician        26\n",
      "writer            26\n",
      "librarian         22\n",
      "marketing         16\n",
      "entertainment     16\n",
      "artist            15\n",
      "retired           13\n",
      "lawyer            10\n",
      "salesman           9\n",
      "doctor             7\n",
      "none               5\n",
      "healthcare         5\n",
      "homemaker          1\n",
      "dtype: int64\n"
     ]
    }
   ],
   "source": [
    "# Step 4: Discover the Male count per occupation and sort it\n",
    "male_count_per_occupation = users[users['gender'] == 'M'].groupby('occupation').size().sort_values(ascending=False)\n",
    "print(\"List of Male Count per Occupation in Descending Order\\n\")\n",
    "print(male_count_per_occupation)"
   ]
  },
  {
   "cell_type": "code",
   "execution_count": 31,
   "id": "d72b6169",
   "metadata": {},
   "outputs": [
    {
     "name": "stdout",
     "output_type": "stream",
     "text": [
      "List of Minimum and Maximum Ages per Occupation\n",
      "\n",
      "               min  max\n",
      "occupation             \n",
      "administrator   21   70\n",
      "artist          19   48\n",
      "doctor          28   64\n",
      "educator        23   63\n",
      "engineer        22   70\n",
      "entertainment   15   50\n",
      "executive       22   69\n",
      "healthcare      22   62\n",
      "homemaker       20   50\n",
      "lawyer          21   53\n",
      "librarian       23   69\n",
      "marketing       24   55\n",
      "none            11   55\n",
      "other           13   64\n",
      "programmer      20   63\n",
      "retired         51   73\n",
      "salesman        18   66\n",
      "scientist       23   55\n",
      "student          7   42\n",
      "technician      21   55\n",
      "writer          18   60\n"
     ]
    }
   ],
   "source": [
    "# Step 5: For each occupation, calculate the minimum and maximum ages\n",
    "min_max_age_per_occupation = users.groupby('occupation')['age'].agg(['min', 'max'])\n",
    "print(\"List of Minimum and Maximum Ages per Occupation\\n\")\n",
    "print(min_max_age_per_occupation)"
   ]
  },
  {
   "cell_type": "code",
   "execution_count": 34,
   "id": "ab3e0d70",
   "metadata": {},
   "outputs": [
    {
     "name": "stdout",
     "output_type": "stream",
     "text": [
      "List of Mean Age per Combination of Occupation and Sex\n",
      "\n",
      "administrator  F         40.638889\n",
      "               M         37.162791\n",
      "artist         F         30.307692\n",
      "               M         32.333333\n",
      "doctor         M         43.571429\n",
      "educator       F         39.115385\n",
      "               M         43.101449\n",
      "engineer       F         29.500000\n",
      "               M         36.600000\n",
      "entertainment  F         31.000000\n",
      "               M         29.000000\n",
      "executive      F         44.000000\n",
      "               M         38.172414\n",
      "healthcare     F         39.818182\n",
      "               M         45.400000\n",
      "homemaker      F         34.166667\n",
      "               M         23.000000\n",
      "lawyer         F         39.500000\n",
      "               M         36.200000\n",
      "librarian      F         40.000000\n",
      "               M         40.000000\n",
      "marketing      F         37.200000\n",
      "               M         37.875000\n",
      "none           F         36.500000\n",
      "               M         18.600000\n",
      "other          F         35.472222\n",
      "               M         34.028986\n",
      "programmer     F         32.166667\n",
      "               M         33.216667\n",
      "retired        F         70.000000\n",
      "               M         62.538462\n",
      "salesman       F         27.000000\n",
      "               M         38.555556\n",
      "scientist      F         28.333333\n",
      "               M         36.321429\n",
      "student        F         20.750000\n",
      "               M         22.669118\n",
      "technician     F         38.000000\n",
      "               M         32.961538\n",
      "writer         F         37.631579\n",
      "               M         35.346154\n"
     ]
    }
   ],
   "source": [
    "# Step 6: For each combination of occupation and sex, calculate the mean age\n",
    "mean_age_per_combination = users.groupby(['occupation', 'gender'])['age'].mean()\n",
    "\n",
    "# Print the list of Mean Age per Combination of Occupation and Sex without index name and data type\n",
    "print(\"List of Mean Age per Combination of Occupation and Sex\\n\")\n",
    "print(mean_age_per_combination.to_string(header=False))\n"
   ]
  },
  {
   "cell_type": "code",
   "execution_count": 36,
   "id": "fcd27497",
   "metadata": {},
   "outputs": [
    {
     "name": "stdout",
     "output_type": "stream",
     "text": [
      "List of Gender Percentage per Occupation\n",
      "\n",
      "occupation     36.0   43.0   79.0  45.569620   54.430380\n",
      "administrator  13.0   15.0   28.0  46.428571   53.571429\n",
      "artist          0.0    7.0    7.0   0.000000  100.000000\n",
      "doctor         26.0   69.0   95.0  27.368421   72.631579\n",
      "educator        2.0   65.0   67.0   2.985075   97.014925\n",
      "engineer        2.0   16.0   18.0  11.111111   88.888889\n",
      "entertainment   3.0   29.0   32.0   9.375000   90.625000\n",
      "executive      11.0    5.0   16.0  68.750000   31.250000\n",
      "healthcare      6.0    1.0    7.0  85.714286   14.285714\n",
      "homemaker       2.0   10.0   12.0  16.666667   83.333333\n",
      "lawyer         29.0   22.0   51.0  56.862745   43.137255\n",
      "librarian      10.0   16.0   26.0  38.461538   61.538462\n",
      "marketing       4.0    5.0    9.0  44.444444   55.555556\n",
      "none           36.0   69.0  105.0  34.285714   65.714286\n",
      "other           6.0   60.0   66.0   9.090909   90.909091\n",
      "programmer      1.0   13.0   14.0   7.142857   92.857143\n",
      "retired         3.0    9.0   12.0  25.000000   75.000000\n",
      "salesman        3.0   28.0   31.0   9.677419   90.322581\n",
      "scientist      60.0  136.0  196.0  30.612245   69.387755\n",
      "student         1.0   26.0   27.0   3.703704   96.296296\n",
      "technician     19.0   26.0   45.0  42.222222   57.777778\n",
      "writer                                                  \n"
     ]
    }
   ],
   "source": [
    "# Step 7: For each occupation, present the percentage of women and men\n",
    "gender_percentage_per_occupation = users.groupby(['occupation', 'gender']).size().unstack().fillna(0)\n",
    "gender_percentage_per_occupation['Total'] = gender_percentage_per_occupation['F'] + gender_percentage_per_occupation['M']\n",
    "gender_percentage_per_occupation['Female Percentage'] = (gender_percentage_per_occupation['F'] / gender_percentage_per_occupation['Total']) * 100\n",
    "gender_percentage_per_occupation['Male Percentage'] = (gender_percentage_per_occupation['M'] / gender_percentage_per_occupation['Total']) * 100\n",
    "\n",
    "# Print the list of Gender Percentage per Occupation without index name and data type\n",
    "print(\"List of Gender Percentage per Occupation\\n\")\n",
    "print(gender_percentage_per_occupation.to_string(header=False))\n"
   ]
  },
  {
   "cell_type": "markdown",
   "id": "360fbd3c",
   "metadata": {},
   "source": [
    "# Question 2\n",
    "\n",
    "Euro Teams"
   ]
  },
  {
   "cell_type": "code",
   "execution_count": 51,
   "id": "e272cbc2",
   "metadata": {},
   "outputs": [
    {
     "name": "stdout",
     "output_type": "stream",
     "text": [
      " Goals\n",
      "     4\n",
      "     4\n",
      "     4\n",
      "     5\n",
      "     3\n",
      "    10\n",
      "     5\n",
      "     6\n",
      "     2\n",
      "     2\n",
      "     6\n",
      "     1\n",
      "     5\n",
      "    12\n",
      "     5\n",
      "     2\n"
     ]
    }
   ],
   "source": [
    "# Step 1. Import the necessary libraries\n",
    "import pandas as pd\n",
    "\n",
    "# Step 2. Import the dataset from the given address\n",
    "file_path = \"C:\\\\Users\\\\User\\\\Downloads\\\\Data_Programming\\\\Euro_2012_stats_TEAM.csv\"\n",
    "\n",
    "# Step 3. Assign it to a variable called euro12\n",
    "euro12 = pd.read_csv(file_path)\n",
    "\n",
    "# Step 4. Select only the Goal column\n",
    "goals = euro12['Goals']\n",
    "print(euro12[['Goals']].to_string(index=False, header=True))"
   ]
  },
  {
   "cell_type": "code",
   "execution_count": 52,
   "id": "69e4c73c",
   "metadata": {},
   "outputs": [
    {
     "name": "stdout",
     "output_type": "stream",
     "text": [
      "Number of teams participated in Euro 2012: 16\n"
     ]
    }
   ],
   "source": [
    "# Step 5. How many teams participated in the Euro2012?\n",
    "num_teams = euro12['Team'].nunique()\n",
    "print(f\"Number of teams participated in Euro 2012: {num_teams}\")\n"
   ]
  },
  {
   "cell_type": "code",
   "execution_count": 53,
   "id": "b53ea276",
   "metadata": {},
   "outputs": [
    {
     "name": "stdout",
     "output_type": "stream",
     "text": [
      "Number of columns in the dataset: 35\n"
     ]
    }
   ],
   "source": [
    "# Step 6. What is the number of columns in the dataset?\n",
    "num_columns = euro12.shape[1]\n",
    "print(f\"Number of columns in the dataset: {num_columns}\")"
   ]
  },
  {
   "cell_type": "code",
   "execution_count": 57,
   "id": "df7c4b26",
   "metadata": {},
   "outputs": [
    {
     "name": "stdout",
     "output_type": "stream",
     "text": [
      "List of data with team, yellow cards and red cards\n",
      "\n",
      "                   Team  Yellow Cards  Red Cards\n",
      "0               Croatia             9          0\n",
      "1        Czech Republic             7          0\n",
      "2               Denmark             4          0\n",
      "3               England             5          0\n",
      "4                France             6          0\n",
      "5               Germany             4          0\n",
      "6                Greece             9          1\n",
      "7                 Italy            16          0\n",
      "8           Netherlands             5          0\n",
      "9                Poland             7          1\n",
      "10             Portugal            12          0\n",
      "11  Republic of Ireland             6          1\n",
      "12               Russia             6          0\n",
      "13                Spain            11          0\n",
      "14               Sweden             7          0\n",
      "15              Ukraine             5          0\n"
     ]
    }
   ],
   "source": [
    "# Step 7. View only the columns Team, Yellow Cards, and Red Cards and assign them to a dataframe called discipline\n",
    "discipline = euro12[['Team', 'Yellow Cards', 'Red Cards']]\n",
    "print(\"List of data with team, yellow cards and red cards\\n\")\n",
    "print(discipline)\n"
   ]
  },
  {
   "cell_type": "code",
   "execution_count": 65,
   "id": "e26f5c00",
   "metadata": {},
   "outputs": [
    {
     "name": "stdout",
     "output_type": "stream",
     "text": [
      "Teams with Red Cards:\n",
      "\n",
      "               Team  Red Cards\n",
      "             Greece          1\n",
      "             Poland          1\n",
      "Republic of Ireland          1\n"
     ]
    }
   ],
   "source": [
    "# Step 8. Sort the teams by Red Cards, then by Yellow Cards\n",
    "\n",
    "discipline_sorted = discipline.sort_values(by=['Red Cards', 'Yellow Cards'], ascending=False)\n",
    "\n",
    "# Extract teams with only red cards\n",
    "teams_with_red_cards = discipline_sorted[discipline_sorted['Red Cards'] > 0]\n",
    "\n",
    "print(\"Teams with Red Cards:\\n\")\n",
    "print(teams_with_red_cards[['Team', 'Red Cards']].to_string(index=False))\n"
   ]
  },
  {
   "cell_type": "code",
   "execution_count": 66,
   "id": "311c44c0",
   "metadata": {},
   "outputs": [
    {
     "name": "stdout",
     "output_type": "stream",
     "text": [
      "\n",
      "Teams with Yellow Cards:\n",
      "\n",
      "          Team  Yellow Cards\n",
      "         Italy            16\n",
      "      Portugal            12\n",
      "         Spain            11\n",
      "       Croatia             9\n",
      "Czech Republic             7\n",
      "        Sweden             7\n",
      "        France             6\n",
      "        Russia             6\n",
      "       England             5\n",
      "   Netherlands             5\n",
      "       Ukraine             5\n",
      "       Denmark             4\n",
      "       Germany             4\n"
     ]
    }
   ],
   "source": [
    "# Extract teams with only yellow cards\n",
    "teams_with_yellow_cards = discipline_sorted[(discipline_sorted['Red Cards'] == 0) & (discipline_sorted['Yellow Cards'] > 0)]\n",
    "\n",
    "print(\"\\nTeams with Yellow Cards:\\n\")\n",
    "print(teams_with_yellow_cards[['Team', 'Yellow Cards']].to_string(index=False))"
   ]
  },
  {
   "cell_type": "code",
   "execution_count": 67,
   "id": "fc2c359c",
   "metadata": {},
   "outputs": [
    {
     "name": "stdout",
     "output_type": "stream",
     "text": [
      "Mean Yellow Cards given per Team: 7.4375\n"
     ]
    }
   ],
   "source": [
    "#Step 9. Calculate the mean Yellow Cards given per Team\n",
    "mean_yellow_cards = discipline['Yellow Cards'].mean()\n",
    "print(f\"Mean Yellow Cards given per Team: {mean_yellow_cards}\")\n"
   ]
  },
  {
   "cell_type": "code",
   "execution_count": 70,
   "id": "b0a59105",
   "metadata": {},
   "outputs": [
    {
     "name": "stdout",
     "output_type": "stream",
     "text": [
      "List of Teams that scored more than 6 goals\n",
      "\n",
      "   Team  Goals\n",
      "Germany     10\n",
      "  Spain     12\n"
     ]
    }
   ],
   "source": [
    "# Step 10. Filter teams that scored more than 6 goals\n",
    "teams_more_than_6_goals = euro12[euro12['Goals'] > 6]\n",
    "\n",
    "print(\"List of Teams that scored more than 6 goals\\n\")\n",
    "print(teams_more_than_6_goals[['Team', 'Goals']].to_string(index=False))"
   ]
  },
  {
   "cell_type": "code",
   "execution_count": 71,
   "id": "09eee2c8",
   "metadata": {},
   "outputs": [
    {
     "name": "stdout",
     "output_type": "stream",
     "text": [
      "List of Teams that start with letter G\n",
      "\n",
      "   Team\n",
      "Germany\n",
      " Greece\n"
     ]
    }
   ],
   "source": [
    "# Step 11. Select the teams that start with G\n",
    "teams_starting_with_G = euro12[euro12['Team'].str.startswith('G')]\n",
    "\n",
    "print(\"List of Teams that start with letter G\\n\")\n",
    "print(teams_starting_with_G[['Team']].to_string(index=False))"
   ]
  },
  {
   "cell_type": "code",
   "execution_count": 80,
   "id": "947eb427",
   "metadata": {},
   "outputs": [
    {
     "name": "stdout",
     "output_type": "stream",
     "text": [
      "First 7 columns are \n",
      "\n",
      "               Team  Goals  Shots on target  Shots off target Shooting Accuracy % Goals-to-shots  Total shots (inc. Blocked)\n",
      "            Croatia      4               13                12             51.9%            16.0%                          32\n",
      "     Czech Republic      4               13                18             41.9%            12.9%                          39\n",
      "            Denmark      4               10                10             50.0%            20.0%                          27\n",
      "            England      5               11                18             50.0%            17.2%                          40\n",
      "             France      3               22                24             37.9%             6.5%                          65\n",
      "            Germany     10               32                32             47.8%            15.6%                          80\n",
      "             Greece      5                8                18             30.7%            19.2%                          32\n",
      "              Italy      6               34                45             43.0%             7.5%                         110\n",
      "        Netherlands      2               12                36             25.0%             4.1%                          60\n",
      "             Poland      2               15                23             39.4%             5.2%                          48\n",
      "           Portugal      6               22                42             34.3%             9.3%                          82\n",
      "Republic of Ireland      1                7                12             36.8%             5.2%                          28\n",
      "             Russia      5                9                31             22.5%            12.5%                          59\n",
      "              Spain     12               42                33             55.9%            16.0%                         100\n",
      "             Sweden      5               17                19             47.2%            13.8%                          39\n",
      "            Ukraine      2                7                26             21.2%             6.0%                          38\n"
     ]
    }
   ],
   "source": [
    "# Step 12. Select the first 7 columns and print in one line\n",
    "first_7_columns = euro12.iloc[:, :7]\n",
    "print(\"First 7 columns are \\n\")\n",
    "print(first_7_columns.to_string(index=False, line_width=2000))"
   ]
  },
  {
   "cell_type": "code",
   "execution_count": 85,
   "id": "ec88b539",
   "metadata": {},
   "outputs": [
    {
     "name": "stdout",
     "output_type": "stream",
     "text": [
      "All columns except the last 3 columns\n",
      "\n",
      "                   Team  Goals  Shots on target  Shots off target  \\\n",
      "0               Croatia      4               13                12   \n",
      "1        Czech Republic      4               13                18   \n",
      "2               Denmark      4               10                10   \n",
      "3               England      5               11                18   \n",
      "4                France      3               22                24   \n",
      "5               Germany     10               32                32   \n",
      "6                Greece      5                8                18   \n",
      "7                 Italy      6               34                45   \n",
      "8           Netherlands      2               12                36   \n",
      "9                Poland      2               15                23   \n",
      "10             Portugal      6               22                42   \n",
      "11  Republic of Ireland      1                7                12   \n",
      "12               Russia      5                9                31   \n",
      "13                Spain     12               42                33   \n",
      "14               Sweden      5               17                19   \n",
      "15              Ukraine      2                7                26   \n",
      "\n",
      "   Shooting Accuracy % Goals-to-shots  Total shots (inc. Blocked)  \\\n",
      "0              51.9%            16.0%                          32   \n",
      "1              41.9%            12.9%                          39   \n",
      "2              50.0%            20.0%                          27   \n",
      "3              50.0%            17.2%                          40   \n",
      "4              37.9%             6.5%                          65   \n",
      "5              47.8%            15.6%                          80   \n",
      "6              30.7%            19.2%                          32   \n",
      "7              43.0%             7.5%                         110   \n",
      "8              25.0%             4.1%                          60   \n",
      "9              39.4%             5.2%                          48   \n",
      "10             34.3%             9.3%                          82   \n",
      "11             36.8%             5.2%                          28   \n",
      "12             22.5%            12.5%                          59   \n",
      "13             55.9%            16.0%                         100   \n",
      "14             47.2%            13.8%                          39   \n",
      "15             21.2%             6.0%                          38   \n",
      "\n",
      "    Hit Woodwork  Penalty goals  Penalties not scored  ...  Clean Sheets  \\\n",
      "0              0              0                     0  ...             0   \n",
      "1              0              0                     0  ...             1   \n",
      "2              1              0                     0  ...             1   \n",
      "3              0              0                     0  ...             2   \n",
      "4              1              0                     0  ...             1   \n",
      "5              2              1                     0  ...             1   \n",
      "6              1              1                     1  ...             1   \n",
      "7              2              0                     0  ...             2   \n",
      "8              2              0                     0  ...             0   \n",
      "9              0              0                     0  ...             0   \n",
      "10             6              0                     0  ...             2   \n",
      "11             0              0                     0  ...             0   \n",
      "12             2              0                     0  ...             0   \n",
      "13             0              1                     0  ...             5   \n",
      "14             3              0                     0  ...             1   \n",
      "15             0              0                     0  ...             0   \n",
      "\n",
      "    Blocks  Goals conceded Saves made  Saves-to-shots ratio  Fouls Won  \\\n",
      "0       10               3         13                 81.3%         41   \n",
      "1       10               6          9                 60.1%         53   \n",
      "2       10               5         10                 66.7%         25   \n",
      "3       29               3         22                 88.1%         43   \n",
      "4        7               5          6                 54.6%         36   \n",
      "5       11               6         10                 62.6%         63   \n",
      "6       23               7         13                 65.1%         67   \n",
      "7       18               7         20                 74.1%        101   \n",
      "8        9               5         12                 70.6%         35   \n",
      "9        8               3          6                 66.7%         48   \n",
      "10      11               4         10                 71.5%         73   \n",
      "11      23               9         17                 65.4%         43   \n",
      "12       8               3         10                 77.0%         34   \n",
      "13       8               1         15                 93.8%        102   \n",
      "14      12               5          8                 61.6%         35   \n",
      "15       4               4         13                 76.5%         48   \n",
      "\n",
      "    Fouls Conceded  Offsides  Yellow Cards  Red Cards  \n",
      "0               62         2             9          0  \n",
      "1               73         8             7          0  \n",
      "2               38         8             4          0  \n",
      "3               45         6             5          0  \n",
      "4               51         5             6          0  \n",
      "5               49        12             4          0  \n",
      "6               48        12             9          1  \n",
      "7               89        16            16          0  \n",
      "8               30         3             5          0  \n",
      "9               56         3             7          1  \n",
      "10              90        10            12          0  \n",
      "11              51        11             6          1  \n",
      "12              43         4             6          0  \n",
      "13              83        19            11          0  \n",
      "14              51         7             7          0  \n",
      "15              31         4             5          0  \n",
      "\n",
      "[16 rows x 32 columns]\n"
     ]
    }
   ],
   "source": [
    "# Step 13. Select all columns except the last 3\n",
    "all_columns_except_last_3 = euro12.iloc[:, :-3]\n",
    "print(\"All columns except the last 3 columns\\n\")\n",
    "print(all_columns_except_last_3)"
   ]
  },
  {
   "cell_type": "code",
   "execution_count": 88,
   "id": "cde24a6b",
   "metadata": {},
   "outputs": [
    {
     "name": "stdout",
     "output_type": "stream",
     "text": [
      "Shooting Accuracy from England, Italy, and Russia are\n",
      "\n",
      "   Team Shooting Accuracy\n",
      "England             50.0%\n",
      "  Italy             43.0%\n",
      " Russia             22.5%\n"
     ]
    }
   ],
   "source": [
    "# Step 14. Present only the Shooting Accuracy from England, Italy, and Russia\n",
    "selected_countries = ['England', 'Italy', 'Russia']\n",
    "shooting_accuracy_selected_countries = euro12.loc[euro12['Team'].isin(selected_countries), ['Team', 'Shooting Accuracy']]\n",
    "\n",
    "print(\"Shooting Accuracy from England, Italy, and Russia are\\n\")\n",
    "print(shooting_accuracy_selected_countries.to_string(index=False))"
   ]
  },
  {
   "cell_type": "markdown",
   "id": "707eb220",
   "metadata": {},
   "source": [
    "# Question 3\n",
    "\n",
    "Housing"
   ]
  },
  {
   "cell_type": "code",
   "execution_count": 32,
   "id": "a9e916bb",
   "metadata": {},
   "outputs": [],
   "source": [
    "#Housing\n",
    "#Step 1. Import the necessary libraries\n",
    "\n",
    "import pandas as pd\n",
    "import numpy as np"
   ]
  },
  {
   "cell_type": "code",
   "execution_count": 33,
   "id": "e546dc73",
   "metadata": {},
   "outputs": [],
   "source": [
    "# Step 2: Generate 3 different Series\n",
    "series_1 = pd.Series(np.random.randint(1, 5, size=100))\n",
    "series_2 = pd.Series(np.random.randint(1, 4, size=100))\n",
    "series_3 = pd.Series(np.random.randint(10000, 30001, size=100))"
   ]
  },
  {
   "cell_type": "code",
   "execution_count": 37,
   "id": "14988f2e",
   "metadata": {},
   "outputs": [
    {
     "name": "stdout",
     "output_type": "stream",
     "text": [
      "Combining the Series into DataFrame\n",
      "    0  1      2\n",
      "0   4  1  29747\n",
      "1   4  1  22047\n",
      "2   2  1  29755\n",
      "3   1  3  26569\n",
      "4   3  1  12430\n",
      ".. .. ..    ...\n",
      "95  1  2  26397\n",
      "96  1  2  16914\n",
      "97  2  1  15135\n",
      "98  4  3  12504\n",
      "99  1  1  16604\n",
      "\n",
      "[100 rows x 3 columns]\n"
     ]
    }
   ],
   "source": [
    "# Step 3: Combine the Series into a DataFrame\n",
    "data_frame = pd.concat([series_1, series_2, series_3], axis=1)\n",
    "\n",
    "print(\"Combining the Series into DataFrame\")\n",
    "print(data_frame)"
   ]
  },
  {
   "cell_type": "code",
   "execution_count": 38,
   "id": "ecf57b79",
   "metadata": {},
   "outputs": [
    {
     "name": "stdout",
     "output_type": "stream",
     "text": [
      "Renamed columns are\n",
      "\n",
      "    bedrs  bathrs  price_sqr_meter\n",
      "0       4       1            29747\n",
      "1       4       1            22047\n",
      "2       2       1            29755\n",
      "3       1       3            26569\n",
      "4       3       1            12430\n",
      "..    ...     ...              ...\n",
      "95      1       2            26397\n",
      "96      1       2            16914\n",
      "97      2       1            15135\n",
      "98      4       3            12504\n",
      "99      1       1            16604\n",
      "\n",
      "[100 rows x 3 columns]\n"
     ]
    }
   ],
   "source": [
    "# Step 4: Change the name of the columns to bedrs, bathrs, price_sqr_meter.\n",
    "\n",
    "data_frame.columns = ['bedrs', 'bathrs', 'price_sqr_meter']\n",
    "\n",
    "print(\"Renamed columns are\\n\")\n",
    "print(data_frame)"
   ]
  },
  {
   "cell_type": "code",
   "execution_count": 39,
   "id": "1da2c7eb",
   "metadata": {},
   "outputs": [
    {
     "name": "stdout",
     "output_type": "stream",
     "text": [
      "One-column DataFrame by concatenating the Series\n",
      "     combined_column\n",
      "0                  4\n",
      "1                  4\n",
      "2                  2\n",
      "3                  1\n",
      "4                  3\n",
      "..               ...\n",
      "295            26397\n",
      "296            16914\n",
      "297            15135\n",
      "298            12504\n",
      "299            16604\n",
      "\n",
      "[300 rows x 1 columns]\n"
     ]
    }
   ],
   "source": [
    "# Step 5: Create a one-column DataFrame by concatenating the Series\n",
    "\n",
    "combined_column = pd.concat([series_1, series_2, series_3], ignore_index=True)\n",
    "combined_column = pd.DataFrame(combined_column, columns=['combined_column'])\n",
    "\n",
    "print(\"One-column DataFrame by concatenating the Series\")\n",
    "print(combined_column)"
   ]
  },
  {
   "cell_type": "code",
   "execution_count": 40,
   "id": "9ce65bcb",
   "metadata": {},
   "outputs": [
    {
     "name": "stdout",
     "output_type": "stream",
     "text": [
      "Is the index going only until 99? False\n"
     ]
    }
   ],
   "source": [
    "# Step 6: Check the index range\n",
    "print(\"Is the index going only until 99?\", combined_column.index.max() == 99)"
   ]
  },
  {
   "cell_type": "code",
   "execution_count": 41,
   "id": "559b6209",
   "metadata": {},
   "outputs": [
    {
     "name": "stdout",
     "output_type": "stream",
     "text": [
      "Reindexed combined_column \n",
      "\n",
      "     combined_column\n",
      "0                  4\n",
      "1                  4\n",
      "2                  2\n",
      "3                  1\n",
      "4                  3\n",
      "..               ...\n",
      "295            26397\n",
      "296            16914\n",
      "297            15135\n",
      "298            12504\n",
      "299            16604\n",
      "\n",
      "[300 rows x 1 columns]\n"
     ]
    }
   ],
   "source": [
    "# Step 7: Reindex the DataFrame to range from 0 to 299\n",
    "\n",
    "combined_column = combined_column.reset_index(drop=True)\n",
    "\n",
    "print(\"Reindexed combined_column \\n\")\n",
    "print(combined_column)"
   ]
  },
  {
   "cell_type": "markdown",
   "id": "8f1b1e1d",
   "metadata": {},
   "source": [
    "# Question 4\n",
    "\n",
    "Wind Statistics"
   ]
  },
  {
   "cell_type": "code",
   "execution_count": 5,
   "id": "891125cf",
   "metadata": {},
   "outputs": [],
   "source": [
    "#Wind data set\n",
    "\n",
    "# Step 1. Import the necessary libraries\n",
    "import pandas as pd\n",
    "\n",
    "# Step 2. Import the dataset from the attached file wind.txt\n",
    "file_path = 'C:\\\\Users\\\\User\\\\Downloads\\\\Data_Programming\\\\wind.txt'\n",
    "\n",
    "\n",
    "# Read the data using fixed-width format\n",
    "data = pd.read_csv(file_path, delim_whitespace=True, na_values='NaN')"
   ]
  },
  {
   "cell_type": "code",
   "execution_count": 6,
   "id": "3f210dd7",
   "metadata": {},
   "outputs": [
    {
     "name": "stdout",
     "output_type": "stream",
     "text": [
      "Data with proper datetime index\n",
      "\n",
      "              RPT    VAL    ROS    KIL    SHA   BIR    DUB    CLA    MUL  \\\n",
      "Date                                                                       \n",
      "2061-01-01  15.04  14.96  13.17   9.29    NaN  9.87  13.67  10.25  10.83   \n",
      "2061-01-02  14.71    NaN  10.83   6.50  12.62  7.67  11.50  10.04   9.79   \n",
      "2061-01-03  18.50  16.88  12.33  10.13  11.17  6.17  11.25    NaN   8.50   \n",
      "2061-01-04  10.58   6.63  11.75   4.58   4.54  2.88   8.63   1.79   5.83   \n",
      "2061-01-05  13.33  13.25  11.42   6.17  10.71  8.21  11.92   6.54  10.92   \n",
      "\n",
      "              CLO    BEL    MAL  \n",
      "Date                             \n",
      "2061-01-01  12.58  18.50  15.04  \n",
      "2061-01-02   9.67  17.54  13.83  \n",
      "2061-01-03   7.67  12.75  12.71  \n",
      "2061-01-04   5.88   5.46  10.88  \n",
      "2061-01-05  10.34  12.92  11.83  \n"
     ]
    }
   ],
   "source": [
    "# Step 3. Assign it to a variable called data and replace the first 3 columns by a proper datetime index.\n",
    "data['Date'] = pd.to_datetime(data[['Yr', 'Mo', 'Dy']].astype(str).agg('-'.join, axis=1))\n",
    "data = data.set_index('Date')\n",
    "data = data.drop(['Yr', 'Mo', 'Dy'], axis=1)\n",
    "\n",
    "print(\"Data with proper datetime index\\n\")\n",
    "print(data.head())\n"
   ]
  },
  {
   "cell_type": "code",
   "execution_count": 7,
   "id": "9081cebb",
   "metadata": {},
   "outputs": [
    {
     "name": "stdout",
     "output_type": "stream",
     "text": [
      "Modified DataFrame with Fixed Year:\n",
      "              RPT    VAL    ROS    KIL    SHA   BIR    DUB    CLA    MUL  \\\n",
      "Date                                                                       \n",
      "1961-01-01  15.04  14.96  13.17   9.29    NaN  9.87  13.67  10.25  10.83   \n",
      "1961-01-02  14.71    NaN  10.83   6.50  12.62  7.67  11.50  10.04   9.79   \n",
      "1961-01-03  18.50  16.88  12.33  10.13  11.17  6.17  11.25    NaN   8.50   \n",
      "1961-01-04  10.58   6.63  11.75   4.58   4.54  2.88   8.63   1.79   5.83   \n",
      "1961-01-05  13.33  13.25  11.42   6.17  10.71  8.21  11.92   6.54  10.92   \n",
      "\n",
      "              CLO    BEL    MAL  \n",
      "Date                             \n",
      "1961-01-01  12.58  18.50  15.04  \n",
      "1961-01-02   9.67  17.54  13.83  \n",
      "1961-01-03   7.67  12.75  12.71  \n",
      "1961-01-04   5.88   5.46  10.88  \n",
      "1961-01-05  10.34  12.92  11.83  \n"
     ]
    }
   ],
   "source": [
    "# Step 4. Create a function to fix the year and apply it\n",
    "\n",
    "def fix_year(row):\n",
    "    if row.year > 2000:\n",
    "        return row - pd.DateOffset(years=100)\n",
    "    return row\n",
    "\n",
    "data.index = data.index.map(fix_year)\n",
    "\n",
    "print(\"Modified DataFrame with Fixed Year:\")\n",
    "print(data.head())\n"
   ]
  },
  {
   "cell_type": "code",
   "execution_count": 8,
   "id": "677d6fac",
   "metadata": {},
   "outputs": [
    {
     "name": "stdout",
     "output_type": "stream",
     "text": [
      "Setting right dates as index\n",
      "\n",
      "DatetimeIndex(['1961-01-01', '1961-01-02', '1961-01-03', '1961-01-04',\n",
      "               '1961-01-05', '1961-01-06', '1961-01-07', '1961-01-08',\n",
      "               '1961-01-09', '1961-01-10',\n",
      "               ...\n",
      "               '1978-12-22', '1978-12-23', '1978-12-24', '1978-12-25',\n",
      "               '1978-12-26', '1978-12-27', '1978-12-28', '1978-12-29',\n",
      "               '1978-12-30', '1978-12-31'],\n",
      "              dtype='datetime64[ns]', name='Date', length=6574, freq=None)\n"
     ]
    }
   ],
   "source": [
    "# Step 5. Set the right dates as the index\n",
    "data.index = pd.to_datetime(data.index)\n",
    "data.index = data.index.astype('datetime64[ns]')\n",
    "\n",
    "print(\"Setting right dates as index\\n\")\n",
    "print(data.index)"
   ]
  },
  {
   "cell_type": "code",
   "execution_count": 9,
   "id": "ec0e5e8b",
   "metadata": {},
   "outputs": [
    {
     "name": "stdout",
     "output_type": "stream",
     "text": [
      "Missing values for each location\n",
      "\n",
      "RPT    6\n",
      "VAL    3\n",
      "ROS    2\n",
      "KIL    5\n",
      "SHA    2\n",
      "BIR    0\n",
      "DUB    3\n",
      "CLA    2\n",
      "MUL    3\n",
      "CLO    1\n",
      "BEL    0\n",
      "MAL    4\n",
      "dtype: int64\n"
     ]
    }
   ],
   "source": [
    "# Step 6. Compute the number of missing values for each location\n",
    "missing_values = data.isnull().sum()\n",
    "\n",
    "print(\"Missing values for each location\\n\")\n",
    "print(missing_values)"
   ]
  },
  {
   "cell_type": "code",
   "execution_count": 10,
   "id": "626f51a4",
   "metadata": {},
   "outputs": [
    {
     "name": "stdout",
     "output_type": "stream",
     "text": [
      "\n",
      "Total non-missing values in the DataFrame: 78857\n"
     ]
    }
   ],
   "source": [
    "# Step 7. Compute how many non-missing values there are in total\n",
    "total_non_missing_values = data.notnull().sum().sum()\n",
    "\n",
    "print(\"\\nTotal non-missing values in the DataFrame:\", total_non_missing_values)"
   ]
  },
  {
   "cell_type": "code",
   "execution_count": 11,
   "id": "d668c03d",
   "metadata": {},
   "outputs": [
    {
     "name": "stdout",
     "output_type": "stream",
     "text": [
      "\n",
      "Mean windspeed over all locations and times: 10.227982360836938\n"
     ]
    }
   ],
   "source": [
    "# Step 8. Calculate the mean windspeeds over all the locations and all the times\n",
    "mean_windspeed = data.mean().mean()\n",
    "\n",
    "print(\"\\nMean windspeed over all locations and times:\", mean_windspeed)"
   ]
  },
  {
   "cell_type": "code",
   "execution_count": 12,
   "id": "87875893",
   "metadata": {},
   "outputs": [
    {
     "name": "stdout",
     "output_type": "stream",
     "text": [
      "Min, Max, Mean and Standard Deviation of the windspeed at each location over all the days\n",
      "\n",
      "      Min    Max       Mean       Std\n",
      "RPT  0.67  35.80  12.362987  5.618413\n",
      "VAL  0.21  33.37  10.644314  5.267356\n",
      "ROS  1.50  33.84  11.660526  5.008450\n",
      "KIL  0.00  28.46   6.306468  3.605811\n",
      "SHA  0.13  37.54  10.455834  4.936125\n",
      "BIR  0.00  26.16   7.092254  3.968683\n",
      "DUB  0.00  30.37   9.797343  4.977555\n",
      "CLA  0.00  31.08   8.495053  4.499449\n",
      "MUL  0.00  25.88   8.493590  4.166872\n",
      "CLO  0.04  28.21   8.707332  4.503954\n",
      "BEL  0.13  42.38  13.121007  5.835037\n",
      "MAL  0.67  42.54  15.599079  6.699794\n"
     ]
    }
   ],
   "source": [
    "#Step 9. Create a DataFrame called loc_stats and calculate the min, max and mean windspeeds and standard deviations of the windspeeds at each location over all the days\n",
    "loc_stats = pd.DataFrame({'Min': data.min(),'Max': data.max(),'Mean': data.mean(),'Std': data.std()})\n",
    "\n",
    "print(\"Min, Max, Mean and Standard Deviation of the windspeed at each location over all the days\\n\")\n",
    "print(loc_stats)"
   ]
  },
  {
   "cell_type": "code",
   "execution_count": 13,
   "id": "ab2d8469",
   "metadata": {},
   "outputs": [
    {
     "name": "stdout",
     "output_type": "stream",
     "text": [
      "The min, max and mean windspeed and standard deviations of the windspeeds across all the locations at each day.\n",
      "\n",
      "             Min    Max       Mean       Std\n",
      "Date                                        \n",
      "1961-01-01  9.29  18.50  13.018182  2.808875\n",
      "1961-01-02  6.50  17.54  11.336364  3.188994\n",
      "1961-01-03  6.17  18.50  11.641818  3.681912\n",
      "1961-01-04  1.79  11.75   6.619167  3.198126\n",
      "1961-01-05  6.17  13.33  10.630000  2.445356\n",
      "...          ...    ...        ...       ...\n",
      "1978-12-27  8.08  40.08  16.708333  7.868076\n",
      "1978-12-28  5.00  41.46  15.150000  9.687857\n",
      "1978-12-29  8.71  29.58  14.890000  5.756836\n",
      "1978-12-30  9.13  28.79  15.367500  5.540437\n",
      "1978-12-31  9.59  27.29  15.402500  5.702483\n",
      "\n",
      "[6574 rows x 4 columns]\n"
     ]
    }
   ],
   "source": [
    "#Step 10. Create a DataFrame called day_stats and calculate the min, max and mean windspeed and standard deviations of the windspeeds across all the locations at each day.\n",
    "day_stats = pd.DataFrame({'Min': data.min(axis=1),'Max': data.max(axis=1),'Mean': data.mean(axis=1),'Std': data.std(axis=1)})\n",
    "\n",
    "print(\"The min, max and mean windspeed and standard deviations of the windspeeds across all the locations at each day.\\n\")\n",
    "print(day_stats)\n"
   ]
  },
  {
   "cell_type": "code",
   "execution_count": 14,
   "id": "59829b0c",
   "metadata": {},
   "outputs": [
    {
     "name": "stdout",
     "output_type": "stream",
     "text": [
      "\n",
      "Average windspeed in January for each location:\n",
      "            RPT        VAL        ROS        KIL        SHA        BIR  \\\n",
      "Date                                                                     \n",
      "1961  14.841333  11.988333  13.431613   7.736774  11.072759   8.588065   \n",
      "1962  14.783871  13.160323  12.591935   7.538065  11.779677   8.720000   \n",
      "1963  14.868387  11.112903  15.121613   6.635806  11.080645   7.835484   \n",
      "1964  12.661290  11.818387  11.741290   6.953548  11.400645   6.865806   \n",
      "1965  15.741613  15.546774  15.274194   8.258387  13.588065   9.251290   \n",
      "1966  15.834839  13.283226  15.136452   8.659355  12.968065   9.163548   \n",
      "1967  13.736129  11.470968  11.537419   6.928065  10.833548   6.730323   \n",
      "1968  14.733226  12.829032  12.294194   7.849032  12.262581   7.133226   \n",
      "1969  12.824839  12.113871  11.403871   6.708710  10.557097   5.926452   \n",
      "1970  13.152581  11.731935  13.083871   5.810968   9.507742   8.040323   \n",
      "1971  15.098065  13.398387  13.080000   6.364194  11.342258   7.759677   \n",
      "1972  14.383871  11.848387  13.732258   5.925161  10.823226   7.291290   \n",
      "1973  13.177742  12.202903  10.860968   5.454516   9.327419   7.419677   \n",
      "1974  20.990968  17.623548  17.514839  10.549355  15.858387  11.298387   \n",
      "1975  17.100323  15.812903  13.942581   8.081935  13.934194   8.437742   \n",
      "1976  15.626129  14.240323  13.867097   7.789355  13.081935   9.003548   \n",
      "1977  13.404516  10.377742  12.764839   5.884516   9.159677   8.005161   \n",
      "1978  14.291935  11.872258  12.014194   6.463226  11.402903   7.517097   \n",
      "\n",
      "            DUB        CLA        MUL        CLO        BEL        MAL  \n",
      "Date                                                                    \n",
      "1961  11.184839   9.245333   9.085806  10.107419  13.880968  14.703226  \n",
      "1962  14.211935   9.600000   9.670000  11.498710  16.369355  15.661613  \n",
      "1963  12.797419   9.844839   7.841613   9.390000  11.428710  18.822258  \n",
      "1964   9.592903   9.687419   6.947742   9.676774  15.067419  14.145484  \n",
      "1965  13.850968  11.260000   9.899355  11.706129  16.196129  17.888710  \n",
      "1966  12.150000  10.475806   8.750645  10.739677  14.074516  15.554194  \n",
      "1967   9.787419   7.474839   7.627097  10.169032  13.457742  17.124516  \n",
      "1968  12.395806   9.225806   9.415484   9.255161  14.213871  19.095484  \n",
      "1969   9.882903   8.375161   8.378065   9.515484  13.410000  16.957742  \n",
      "1970   9.843226   8.834194   8.407097   7.626452  12.403871  17.192903  \n",
      "1971  10.297419   8.350000   8.979355   8.666774  14.392581  16.360000  \n",
      "1972  11.287097   6.733548   9.109355   8.728387  12.170645  17.598710  \n",
      "1973  10.738710   7.880000   8.651290   7.596774  12.076452  14.684516  \n",
      "1974  14.112258  12.786452  14.691935  15.092903  19.929677  24.573226  \n",
      "1975  13.179677  12.601935  13.000645  11.064839  19.266774  21.713226  \n",
      "1976  15.121290  11.414839  13.493226  11.553871  16.337097  22.896129  \n",
      "1977  10.107419   7.211613   8.280000   9.328387  12.131935  18.830000  \n",
      "1978  12.207097  10.206452   9.549032   9.247419  15.101613  20.715806  \n"
     ]
    }
   ],
   "source": [
    "# Step 11. Find the average windspeed in January for each location. Treat January 1961 and January 1962 both as January.\n",
    "\n",
    "# Calculate the average windspeed for each location in January, ignoring missing values\n",
    "average_january_windspeed = data[data.index.month == 1].groupby(data[data.index.month == 1].index.to_period('Y')).mean() \n",
    "\n",
    "\n",
    "print(\"\\nAverage windspeed in January for each location:\")\n",
    "print(average_january_windspeed)\n"
   ]
  },
  {
   "cell_type": "code",
   "execution_count": 15,
   "id": "402bd60d",
   "metadata": {},
   "outputs": [
    {
     "name": "stdout",
     "output_type": "stream",
     "text": [
      "Downsampled data to yearly frequency for each location:\n",
      "                  RPT        VAL        ROS       KIL        SHA       BIR  \\\n",
      "Date                                                                         \n",
      "1961-12-31  12.299583  10.351796  11.362369  6.958227  10.881763  7.729726   \n",
      "1962-12-31  12.246923  10.110438  11.732712  6.960440  10.657918  7.393068   \n",
      "1963-12-31  12.813452  10.836986  12.541151  7.330055  11.724110  8.434712   \n",
      "1964-12-31  12.363661  10.920164  12.104372  6.787787  11.454481  7.570874   \n",
      "1965-12-31  12.451370  11.075534  11.848767  6.858466  11.024795  7.478110   \n",
      "1966-12-31  13.461973  11.557205  12.020630  7.345726  11.805041  7.793671   \n",
      "1967-12-31  12.737151  10.990986  11.739397  7.143425  11.630740  7.368164   \n",
      "1968-12-31  11.835628  10.468197  11.409754  6.477678  10.760765  6.067322   \n",
      "1969-12-31  11.166356   9.723699  10.902000  5.767973   9.873918  6.189973   \n",
      "1970-12-31  12.600329  10.726932  11.730247  6.217178  10.567370  7.609452   \n",
      "1971-12-31  11.273123   9.095178  11.088329  5.241507   9.440329  6.097151   \n",
      "1972-12-31  12.463962  10.561311  12.058333  5.929699   9.430410  6.358825   \n",
      "1973-12-31  11.828466  10.680493  10.680493  5.547863   9.640877  6.548740   \n",
      "1974-12-31  13.643096  11.811781  12.336356  6.427041  11.110986  6.809781   \n",
      "1975-12-31  12.008575  10.293836  11.564712  5.269096   9.190082  5.668521   \n",
      "1976-12-31  11.737842  10.203115  10.761230  5.109426   8.846339  6.311038   \n",
      "1977-12-31  13.099616  11.144493  12.627836  6.073945  10.003836  8.586438   \n",
      "1978-12-31  12.504356  11.044274  11.380000  6.082356  10.167233  7.650658   \n",
      "\n",
      "                  DUB        CLA       MUL        CLO        BEL        MAL  \n",
      "Date                                                                         \n",
      "1961-12-31   9.733923   8.858788  8.647652   9.835577  13.502795  13.680773  \n",
      "1962-12-31  11.020712   8.793753  8.316822   9.676247  12.930685  14.323956  \n",
      "1963-12-31  11.075699  10.336548  8.903589  10.224438  13.638877  14.999014  \n",
      "1964-12-31  10.259153   9.467350  7.789016  10.207951  13.740546  14.910301  \n",
      "1965-12-31  10.618712   8.879918  7.907425   9.918082  12.964247  15.591644  \n",
      "1966-12-31  10.579808   8.835096  8.514438   9.768959  14.265836  16.307260  \n",
      "1967-12-31  10.652027   9.325616  8.645014   9.547425  14.774548  17.135945  \n",
      "1968-12-31   8.859180   8.255519  7.224945   7.832978  12.808634  15.017486  \n",
      "1969-12-31   8.564493   7.711397  7.924521   7.754384  12.621233  15.762904  \n",
      "1970-12-31   9.609890   8.334630  9.297616   8.289808  13.183644  16.456027  \n",
      "1971-12-31   8.385890   6.757315  7.915370   7.229753  12.208932  15.025233  \n",
      "1972-12-31   9.704508   7.680792  8.357295   7.515273  12.727377  15.028716  \n",
      "1973-12-31   8.482110   7.614274  8.245534   7.812411  12.169699  15.441096  \n",
      "1974-12-31  10.084603   9.896986  9.331753   8.736356  13.252959  16.947671  \n",
      "1975-12-31   8.562603   7.843836  8.797945   7.382822  12.631671  15.307863  \n",
      "1976-12-31   9.149126   7.146202  8.883716   7.883087  12.332377  15.471448  \n",
      "1977-12-31  11.523205   8.378384  9.098192   8.821616  13.459068  16.590849  \n",
      "1978-12-31   9.489342   8.800466  9.089753   8.301699  12.967397  16.771370  \n"
     ]
    }
   ],
   "source": [
    "#Step 12. Downsample the record to a yearly frequency for each location.\n",
    "\n",
    "yearly_data = data.resample('Y').mean()\n",
    "\n",
    "print(\"Downsampled data to yearly frequency for each location:\")\n",
    "print(yearly_data)"
   ]
  },
  {
   "cell_type": "code",
   "execution_count": 16,
   "id": "48c23a9c",
   "metadata": {},
   "outputs": [
    {
     "name": "stdout",
     "output_type": "stream",
     "text": [
      "Downsampled data to monthly frequency for each location\n",
      "                  RPT        VAL        ROS       KIL        SHA        BIR  \\\n",
      "Date                                                                          \n",
      "1961-01-31  14.841333  11.988333  13.431613  7.736774  11.072759   8.588065   \n",
      "1961-02-28  16.269286  14.975357  14.441481  9.230741  13.852143  10.937500   \n",
      "1961-03-31  10.890000  11.296452  10.752903  7.284000  10.509355   8.866774   \n",
      "1961-04-30  10.722667   9.427667   9.998000  5.830667   8.435000   6.495000   \n",
      "1961-05-31   9.860968   8.850000  10.818065  5.905333   9.490323   6.574839   \n",
      "...               ...        ...        ...       ...        ...        ...   \n",
      "1978-08-31   9.645161   8.259355   9.032258  4.502903   7.368065   5.935161   \n",
      "1978-09-30  10.913667  10.895000  10.635000  5.725000  10.372000   9.278333   \n",
      "1978-10-31   9.897742   8.670968   9.295806  4.721290   8.525161   6.774194   \n",
      "1978-11-30  16.151667  14.802667  13.508000  7.317333  11.475000   8.743000   \n",
      "1978-12-31  16.175484  13.748065  15.635161  7.094839  11.398710   9.241613   \n",
      "\n",
      "                  DUB        CLA        MUL        CLO        BEL        MAL  \n",
      "Date                                                                          \n",
      "1961-01-31  11.184839   9.245333   9.085806  10.107419  13.880968  14.703226  \n",
      "1961-02-28  11.890714  11.846071  11.821429  12.714286  18.583214  15.411786  \n",
      "1961-03-31   9.644194   9.829677  10.294138  11.251935  16.410968  15.720000  \n",
      "1961-04-30   6.925333   7.094667   7.342333   7.237000  11.147333  10.278333  \n",
      "1961-05-31   7.604000   8.177097   8.039355   8.499355  11.900323  12.011613  \n",
      "...               ...        ...        ...        ...        ...        ...  \n",
      "1978-08-31   5.650323   5.417742   7.241290   5.536774  10.466774  12.054194  \n",
      "1978-09-30  10.790333   9.583000  10.069333   8.939000  15.680333  19.391333  \n",
      "1978-10-31   8.115484   7.337742   8.297742   8.243871  13.776774  17.150000  \n",
      "1978-11-30  11.492333   9.657333  10.701333  10.676000  17.404667  20.723000  \n",
      "1978-12-31  12.077419  10.194839  10.616774  11.028710  13.859677  21.371613  \n",
      "\n",
      "[216 rows x 12 columns]\n"
     ]
    }
   ],
   "source": [
    "#Step 13. Downsample the record to a monthly frequency for each location\n",
    "\n",
    "monthly_data = data.resample('M').mean()\n",
    "\n",
    "print(\"Downsampled data to monthly frequency for each location\")\n",
    "print(monthly_data)"
   ]
  },
  {
   "cell_type": "code",
   "execution_count": 17,
   "id": "ad944943",
   "metadata": {},
   "outputs": [
    {
     "name": "stdout",
     "output_type": "stream",
     "text": [
      "Downsampled data to weekly frequencyfor each ;ocation\n",
      "\n",
      "                  RPT        VAL        ROS        KIL        SHA        BIR  \\\n",
      "Date                                                                           \n",
      "1961-01-01  15.040000  14.960000  13.170000   9.290000        NaN   9.870000   \n",
      "1961-01-08  13.541429  11.486667  10.487143   6.417143   9.474286   6.435714   \n",
      "1961-01-15  12.468571   8.967143  11.958571   4.630000   7.351429   5.072857   \n",
      "1961-01-22  13.204286   9.862857  12.982857   6.328571   8.966667   7.417143   \n",
      "1961-01-29  19.880000  16.141429  18.225714  12.720000  17.432857  14.828571   \n",
      "...               ...        ...        ...        ...        ...        ...   \n",
      "1978-12-03  14.934286  11.232857  13.941429   5.565714  10.215714   8.618571   \n",
      "1978-12-10  20.740000  19.190000  17.034286   9.777143  15.287143  12.774286   \n",
      "1978-12-17  16.758571  14.692857  14.987143   6.917143  11.397143   7.272857   \n",
      "1978-12-24  11.155714   8.008571  13.172857   4.004286   7.825714   6.290000   \n",
      "1978-12-31  14.951429  11.801429  16.035714   6.507143   9.660000   8.620000   \n",
      "\n",
      "                  DUB        CLA        MUL        CLO        BEL        MAL  \n",
      "Date                                                                          \n",
      "1961-01-01  13.670000  10.250000  10.830000  12.580000  18.500000  15.040000  \n",
      "1961-01-08  11.061429   6.616667   8.434286   8.497143  12.481429  13.238571  \n",
      "1961-01-15   7.535714   6.820000   5.712857   7.571429  11.125714  11.024286  \n",
      "1961-01-22   9.257143   7.875714   7.145714   8.124286   9.821429  11.434286  \n",
      "1961-01-29  15.528571  15.160000  14.480000  15.640000  20.930000  22.530000  \n",
      "...               ...        ...        ...        ...        ...        ...  \n",
      "1978-12-03   9.642857   7.685714   9.011429   9.547143  11.835714  18.728571  \n",
      "1978-12-10  14.437143  12.488571  13.870000  14.082857  18.517143  23.061429  \n",
      "1978-12-17  10.208571   7.967143   9.168571   8.565714  11.102857  15.562857  \n",
      "1978-12-24   7.798571   8.667143   7.151429   8.072857  11.845714  18.977143  \n",
      "1978-12-31  13.708571  10.477143  10.868571  11.471429  12.947143  26.844286  \n",
      "\n",
      "[940 rows x 12 columns]\n"
     ]
    }
   ],
   "source": [
    "#Step 14. Downsample the record to a weekly frequency for each location\n",
    "\n",
    "weekly_data = data.resample('W').mean()\n",
    "\n",
    "# Print the result\n",
    "print(\"Downsampled data to weekly frequencyfor each ;ocation\\n\")\n",
    "print(weekly_data)"
   ]
  },
  {
   "cell_type": "code",
   "execution_count": 18,
   "id": "ce751c81",
   "metadata": {},
   "outputs": [
    {
     "name": "stdout",
     "output_type": "stream",
     "text": [
      "\n",
      "Weekly statistics for the first 52 weeks:\n",
      "             min    max       mean       std\n",
      "Date                                        \n",
      "1961-01-01  9.29  18.50  13.018182       NaN\n",
      "1961-01-08  1.79  18.50   9.847659  0.957666\n",
      "1961-01-15  0.50  20.71   8.353214  0.778587\n",
      "1961-01-22  1.04  20.79   9.368413  0.930525\n",
      "1961-01-29  6.04  27.71  16.958095  0.513690\n",
      "1961-02-05  3.63  24.21  11.800357  1.084578\n",
      "1961-02-12  8.08  26.38  15.891548  1.032779\n",
      "1961-02-19  3.42  29.63  13.726825  1.238825\n",
      "1961-02-26  2.21  25.80  12.604286  0.793856\n",
      "1961-03-05  5.50  23.45  11.766766  0.921363\n",
      "1961-03-12  1.71  22.71  10.612579  0.933479\n",
      "1961-03-19  2.75  22.95  11.756310  0.729070\n",
      "1961-03-26  2.58  22.50  10.462857  0.694830\n",
      "1961-04-02  1.46  19.58  10.268433  0.679302\n",
      "1961-04-09  3.21  18.29   9.412381  0.707974\n",
      "1961-04-16  1.54  16.17   6.845595  0.845824\n",
      "1961-04-23  0.83  21.09  10.146667  0.908260\n",
      "1961-04-30  1.38  17.50   7.445000  0.855743\n",
      "1961-05-07  3.83  28.08  13.164048  1.632137\n",
      "1961-05-14  1.04  26.30   8.059802  1.323494\n",
      "1961-05-21  3.17  15.96   7.470258  0.932126\n",
      "1961-05-28  1.63  20.96   7.177956  1.267958\n",
      "1961-06-04  3.42  17.96   9.244643  0.698103\n",
      "1961-06-11  1.87  19.83   8.459048  1.015766\n",
      "1961-06-18  1.58  25.25  10.173810  1.315035\n",
      "1961-06-25  2.88  21.50  10.066548  0.501682\n",
      "1961-07-02  4.42  21.87   9.528810  1.382832\n",
      "1961-07-09  3.54  21.29  10.580099  0.558302\n",
      "1961-07-16  2.67  22.50  11.666190  0.964028\n",
      "1961-07-23  1.46  12.67   5.350952  0.635590\n",
      "1961-07-30  2.21  25.37   9.431071  1.073472\n",
      "1961-08-06  2.25  20.25   9.446786  0.889419\n",
      "1961-08-13  2.50  15.16   8.199206  0.751146\n",
      "1961-08-20  6.83  24.30  12.668413  0.725824\n",
      "1961-08-27  3.96  23.38  12.061786  1.123053\n",
      "1961-09-03  1.13  24.71   8.437381  1.395204\n",
      "1961-09-10  1.25  20.25   8.186786  0.917133\n",
      "1961-09-17  3.96  33.09  14.510833  1.049042\n",
      "1961-09-24  1.46  20.96   7.247937  1.137536\n",
      "1961-10-01  4.04  23.21  11.771091  1.183850\n",
      "1961-10-08  1.04  19.62   8.034167  0.831604\n",
      "1961-10-15  2.96  21.04   9.828115  1.187366\n",
      "1961-10-22  3.75  33.45  15.479643  1.219273\n",
      "1961-10-29  1.71  30.88  12.688631  1.322250\n",
      "1961-11-05  3.79  23.58  11.612857  0.607867\n",
      "1961-11-12  1.33  20.41   7.487262  1.403338\n",
      "1961-11-19  0.63  32.71   7.647024  2.017297\n",
      "1961-11-26  2.04  22.58   8.755516  1.431359\n",
      "1961-12-03  1.92  23.75   9.754762  0.841596\n",
      "1961-12-10  3.13  29.33  13.145357  1.064125\n",
      "1961-12-17  4.46  25.62  12.703095  1.151191\n",
      "1961-12-24  0.58  24.41   9.315714  0.946567\n"
     ]
    }
   ],
   "source": [
    "#Step 15. Calculate the min, max and mean windspeeds and standard deviations of the windspeeds across all locations for each week (assume that the first week starts on January 2 1961) for the first 52 weeks.\n",
    "\n",
    "weekly_stats = pd.DataFrame()\n",
    "\n",
    "# Calculate and assign the min, max, mean, and std to the DataFrame\n",
    "weekly_stats['min'] = data.resample('W').min().iloc[:52].min(axis=1)\n",
    "weekly_stats['max'] = data.resample('W').max().iloc[:52].max(axis=1)\n",
    "weekly_stats['mean'] = data.resample('W').mean().iloc[:52].mean(axis=1)\n",
    "weekly_stats['std'] = data.resample('W').std().iloc[:52].std(axis=1)\n",
    "\n",
    "print(\"\\nWeekly statistics for the first 52 weeks:\")\n",
    "print(weekly_stats)"
   ]
  },
  {
   "cell_type": "markdown",
   "id": "3e5b4be4",
   "metadata": {},
   "source": [
    "# Question 5"
   ]
  },
  {
   "cell_type": "code",
   "execution_count": 19,
   "id": "9fa15fe1",
   "metadata": {},
   "outputs": [],
   "source": [
    "#Step 1. Import the necessary libraries\n",
    "\n",
    "import pandas as pd"
   ]
  },
  {
   "cell_type": "code",
   "execution_count": 20,
   "id": "54f618aa",
   "metadata": {},
   "outputs": [],
   "source": [
    "# Step 2: Import the dataset\n",
    "\n",
    "datalink = 'https://raw.githubusercontent.com/justmarkham/DAT8/master/data/chipotle.tsv'"
   ]
  },
  {
   "cell_type": "code",
   "execution_count": 21,
   "id": "1bd64655",
   "metadata": {},
   "outputs": [],
   "source": [
    "# Step 3: Assign it to a variable called chipo\n",
    "chipo = pd.read_csv(datalink, sep='\\t')"
   ]
  },
  {
   "cell_type": "code",
   "execution_count": 22,
   "id": "46d2671b",
   "metadata": {},
   "outputs": [
    {
     "name": "stdout",
     "output_type": "stream",
     "text": [
      "First 10 entries of the dataset:\n",
      "\n"
     ]
    },
    {
     "data": {
      "text/html": [
       "<div>\n",
       "<style scoped>\n",
       "    .dataframe tbody tr th:only-of-type {\n",
       "        vertical-align: middle;\n",
       "    }\n",
       "\n",
       "    .dataframe tbody tr th {\n",
       "        vertical-align: top;\n",
       "    }\n",
       "\n",
       "    .dataframe thead th {\n",
       "        text-align: right;\n",
       "    }\n",
       "</style>\n",
       "<table border=\"1\" class=\"dataframe\">\n",
       "  <thead>\n",
       "    <tr style=\"text-align: right;\">\n",
       "      <th></th>\n",
       "      <th>order_id</th>\n",
       "      <th>quantity</th>\n",
       "      <th>item_name</th>\n",
       "      <th>choice_description</th>\n",
       "      <th>item_price</th>\n",
       "    </tr>\n",
       "  </thead>\n",
       "  <tbody>\n",
       "    <tr>\n",
       "      <th>0</th>\n",
       "      <td>1</td>\n",
       "      <td>1</td>\n",
       "      <td>Chips and Fresh Tomato Salsa</td>\n",
       "      <td>NaN</td>\n",
       "      <td>$2.39</td>\n",
       "    </tr>\n",
       "    <tr>\n",
       "      <th>1</th>\n",
       "      <td>1</td>\n",
       "      <td>1</td>\n",
       "      <td>Izze</td>\n",
       "      <td>[Clementine]</td>\n",
       "      <td>$3.39</td>\n",
       "    </tr>\n",
       "    <tr>\n",
       "      <th>2</th>\n",
       "      <td>1</td>\n",
       "      <td>1</td>\n",
       "      <td>Nantucket Nectar</td>\n",
       "      <td>[Apple]</td>\n",
       "      <td>$3.39</td>\n",
       "    </tr>\n",
       "    <tr>\n",
       "      <th>3</th>\n",
       "      <td>1</td>\n",
       "      <td>1</td>\n",
       "      <td>Chips and Tomatillo-Green Chili Salsa</td>\n",
       "      <td>NaN</td>\n",
       "      <td>$2.39</td>\n",
       "    </tr>\n",
       "    <tr>\n",
       "      <th>4</th>\n",
       "      <td>2</td>\n",
       "      <td>2</td>\n",
       "      <td>Chicken Bowl</td>\n",
       "      <td>[Tomatillo-Red Chili Salsa (Hot), [Black Beans...</td>\n",
       "      <td>$16.98</td>\n",
       "    </tr>\n",
       "    <tr>\n",
       "      <th>5</th>\n",
       "      <td>3</td>\n",
       "      <td>1</td>\n",
       "      <td>Chicken Bowl</td>\n",
       "      <td>[Fresh Tomato Salsa (Mild), [Rice, Cheese, Sou...</td>\n",
       "      <td>$10.98</td>\n",
       "    </tr>\n",
       "    <tr>\n",
       "      <th>6</th>\n",
       "      <td>3</td>\n",
       "      <td>1</td>\n",
       "      <td>Side of Chips</td>\n",
       "      <td>NaN</td>\n",
       "      <td>$1.69</td>\n",
       "    </tr>\n",
       "    <tr>\n",
       "      <th>7</th>\n",
       "      <td>4</td>\n",
       "      <td>1</td>\n",
       "      <td>Steak Burrito</td>\n",
       "      <td>[Tomatillo Red Chili Salsa, [Fajita Vegetables...</td>\n",
       "      <td>$11.75</td>\n",
       "    </tr>\n",
       "    <tr>\n",
       "      <th>8</th>\n",
       "      <td>4</td>\n",
       "      <td>1</td>\n",
       "      <td>Steak Soft Tacos</td>\n",
       "      <td>[Tomatillo Green Chili Salsa, [Pinto Beans, Ch...</td>\n",
       "      <td>$9.25</td>\n",
       "    </tr>\n",
       "    <tr>\n",
       "      <th>9</th>\n",
       "      <td>5</td>\n",
       "      <td>1</td>\n",
       "      <td>Steak Burrito</td>\n",
       "      <td>[Fresh Tomato Salsa, [Rice, Black Beans, Pinto...</td>\n",
       "      <td>$9.25</td>\n",
       "    </tr>\n",
       "  </tbody>\n",
       "</table>\n",
       "</div>"
      ],
      "text/plain": [
       "   order_id  quantity                              item_name  \\\n",
       "0         1         1           Chips and Fresh Tomato Salsa   \n",
       "1         1         1                                   Izze   \n",
       "2         1         1                       Nantucket Nectar   \n",
       "3         1         1  Chips and Tomatillo-Green Chili Salsa   \n",
       "4         2         2                           Chicken Bowl   \n",
       "5         3         1                           Chicken Bowl   \n",
       "6         3         1                          Side of Chips   \n",
       "7         4         1                          Steak Burrito   \n",
       "8         4         1                       Steak Soft Tacos   \n",
       "9         5         1                          Steak Burrito   \n",
       "\n",
       "                                  choice_description item_price  \n",
       "0                                                NaN     $2.39   \n",
       "1                                       [Clementine]     $3.39   \n",
       "2                                            [Apple]     $3.39   \n",
       "3                                                NaN     $2.39   \n",
       "4  [Tomatillo-Red Chili Salsa (Hot), [Black Beans...    $16.98   \n",
       "5  [Fresh Tomato Salsa (Mild), [Rice, Cheese, Sou...    $10.98   \n",
       "6                                                NaN     $1.69   \n",
       "7  [Tomatillo Red Chili Salsa, [Fajita Vegetables...    $11.75   \n",
       "8  [Tomatillo Green Chili Salsa, [Pinto Beans, Ch...     $9.25   \n",
       "9  [Fresh Tomato Salsa, [Rice, Black Beans, Pinto...     $9.25   "
      ]
     },
     "execution_count": 22,
     "metadata": {},
     "output_type": "execute_result"
    }
   ],
   "source": [
    "# Step 4: See the first 10 entries\n",
    "\n",
    "print(\"First 10 entries of the dataset:\\n\")\n",
    "chipo.head(10)"
   ]
  },
  {
   "cell_type": "code",
   "execution_count": 23,
   "id": "c0f1f730",
   "metadata": {},
   "outputs": [
    {
     "name": "stdout",
     "output_type": "stream",
     "text": [
      "Number of observations in the dataset: 4622\n"
     ]
    }
   ],
   "source": [
    "#Step 5. What is the number of observations in the dataset?\n",
    "\n",
    "num_observations = len(chipo)\n",
    "\n",
    "print(\"Number of observations in the dataset:\", num_observations)"
   ]
  },
  {
   "cell_type": "code",
   "execution_count": 24,
   "id": "cb6d53da",
   "metadata": {},
   "outputs": [
    {
     "name": "stdout",
     "output_type": "stream",
     "text": [
      "Number of columns in the dataset: 5\n"
     ]
    }
   ],
   "source": [
    "# Step 6: Find the number of columns in the dataset\n",
    "num_columns = len(chipo.columns)\n",
    "\n",
    "print(\"Number of columns in the dataset:\", num_columns)\n"
   ]
  },
  {
   "cell_type": "code",
   "execution_count": 25,
   "id": "9bb3b3c4",
   "metadata": {},
   "outputs": [
    {
     "name": "stdout",
     "output_type": "stream",
     "text": [
      "Names of all columns in the dataset:\n",
      "Index(['order_id', 'quantity', 'item_name', 'choice_description',\n",
      "       'item_price'],\n",
      "      dtype='object')\n"
     ]
    }
   ],
   "source": [
    "# Step 7: Print the names of all the columns\n",
    "column_names = chipo.columns\n",
    "\n",
    "print(\"Names of all columns in the dataset:\")\n",
    "print(column_names)\n"
   ]
  },
  {
   "cell_type": "code",
   "execution_count": 26,
   "id": "dd887ffc",
   "metadata": {},
   "outputs": [
    {
     "name": "stdout",
     "output_type": "stream",
     "text": [
      "Type of index in the dataset:\n",
      "RangeIndex(start=0, stop=4622, step=1)\n"
     ]
    }
   ],
   "source": [
    "#Step 8. How is the dataset indexed?\n",
    "\n",
    "print(\"Type of index in the dataset:\")\n",
    "print(chipo.index)"
   ]
  },
  {
   "cell_type": "code",
   "execution_count": 27,
   "id": "fffb1ecd",
   "metadata": {},
   "outputs": [
    {
     "name": "stdout",
     "output_type": "stream",
     "text": [
      "The most-ordered item: Chicken Bowl\n"
     ]
    }
   ],
   "source": [
    "# Step 9:Which was the most ordered item?\n",
    "\n",
    "most_ordered_item = chipo.groupby('item_name')['quantity'].sum().idxmax()\n",
    "\n",
    "print(\"The most-ordered item:\", most_ordered_item)"
   ]
  },
  {
   "cell_type": "code",
   "execution_count": 28,
   "id": "de95e1c3",
   "metadata": {},
   "outputs": [
    {
     "name": "stdout",
     "output_type": "stream",
     "text": [
      "For the most-ordered item 'Chicken Bowl', 761 items were ordered.\n"
     ]
    }
   ],
   "source": [
    "# Step 10: Step 10. For the most-ordered item, how many items were ordered?\n",
    "\n",
    "most_ordered_item_info = chipo.groupby('item_name')['quantity'].sum().idxmax()\n",
    "quantity_ordered = chipo.groupby('item_name')['quantity'].sum().max()\n",
    "\n",
    "# Print the result\n",
    "print(f\"For the most-ordered item '{most_ordered_item_info}', {quantity_ordered} items were ordered.\")\n"
   ]
  },
  {
   "cell_type": "code",
   "execution_count": 29,
   "id": "d54afd3f",
   "metadata": {},
   "outputs": [
    {
     "name": "stdout",
     "output_type": "stream",
     "text": [
      "The most-ordered item in the choice_description column: [Diet Coke]\n"
     ]
    }
   ],
   "source": [
    "# Step 11. What was the most ordered item in the choice_description column?\n",
    "\n",
    "most_ordered_choice = chipo.groupby('choice_description')['quantity'].sum().idxmax()\n",
    "\n",
    "# Print the result\n",
    "print(\"The most-ordered item in the choice_description column:\", most_ordered_choice)"
   ]
  },
  {
   "cell_type": "code",
   "execution_count": 30,
   "id": "2ef8377d",
   "metadata": {},
   "outputs": [
    {
     "name": "stdout",
     "output_type": "stream",
     "text": [
      "Total number of items ordered: 4972\n"
     ]
    }
   ],
   "source": [
    "# Step 12. How many items were orderd in total?\n",
    "\n",
    "total_items_ordered = chipo['quantity'].sum()\n",
    "\n",
    "# Print the result\n",
    "print(\"Total number of items ordered:\", total_items_ordered)"
   ]
  },
  {
   "cell_type": "code",
   "execution_count": 40,
   "id": "9ac2ee6e",
   "metadata": {},
   "outputs": [
    {
     "name": "stdout",
     "output_type": "stream",
     "text": [
      "Type of 'item_price' float64\n"
     ]
    }
   ],
   "source": [
    "# Step 13.\n",
    "# Turn the item price into a float\n",
    "# Check the item price type\n",
    "# Create a lambda function and change the type of item price\n",
    "#Check the item price type\n",
    "\n",
    "import re\n",
    "# Step 13: Converting 'item_price' to a float using lambda function\n",
    "chipo['item_price'] = chipo['item_price'].apply(lambda x: float(re.sub('[^\\d.]', '', str(x))) if pd.notna(x) else x)\n",
    "\n",
    "# Check ing item price type before and after conversion\n",
    "print(\"Type of 'item_price'\", chipo['item_price'].dtype)\n",
    "\n"
   ]
  },
  {
   "cell_type": "code",
   "execution_count": 41,
   "id": "bf8f8650",
   "metadata": {},
   "outputs": [
    {
     "name": "stdout",
     "output_type": "stream",
     "text": [
      "Total revenue for the period in the dataset: 39237.02\n"
     ]
    }
   ],
   "source": [
    "# Step 14. How much was the revenue for the period in the dataset?\n",
    "\n",
    "# Step 14: Calculate the revenue for the period\n",
    "chipo['revenue'] = chipo['quantity'] * chipo['item_price']\n",
    "total_revenue = chipo['revenue'].sum()\n",
    "\n",
    "print(\"Total revenue for the period in the dataset:\", total_revenue)\n"
   ]
  },
  {
   "cell_type": "code",
   "execution_count": 43,
   "id": "aa639a7a",
   "metadata": {},
   "outputs": [
    {
     "name": "stdout",
     "output_type": "stream",
     "text": [
      "Orders made in the period: 1834\n"
     ]
    }
   ],
   "source": [
    "# Step 15. How many orders were made in the period?\n",
    "\n",
    "# Step 15: Find the number of orders made in the period\n",
    "num_orders = chipo['order_id'].nunique()\n",
    "\n",
    "print(\"Orders made in the period:\", num_orders)\n"
   ]
  },
  {
   "cell_type": "code",
   "execution_count": 44,
   "id": "b6a33dbf",
   "metadata": {},
   "outputs": [
    {
     "name": "stdout",
     "output_type": "stream",
     "text": [
      "Average revenue amount per order: 21.39423118865867\n"
     ]
    }
   ],
   "source": [
    "# Step 16. What is the average revenue amount per order?\n",
    "\n",
    "average_revenue_per_order = total_revenue / num_orders\n",
    "\n",
    "print(\"Average revenue amount per order:\", average_revenue_per_order)\n"
   ]
  },
  {
   "cell_type": "code",
   "execution_count": 45,
   "id": "3f07aac1",
   "metadata": {},
   "outputs": [
    {
     "name": "stdout",
     "output_type": "stream",
     "text": [
      "Number of different items sold: 50\n"
     ]
    }
   ],
   "source": [
    "# Step 17. How many different items are sold?\n",
    "\n",
    "num_different_items = chipo['item_name'].nunique()\n",
    "\n",
    "print(\"Number of different items sold:\", num_different_items)\n"
   ]
  },
  {
   "cell_type": "markdown",
   "id": "94433eed",
   "metadata": {},
   "source": [
    "# Question 6"
   ]
  },
  {
   "cell_type": "markdown",
   "id": "5f7d33c3",
   "metadata": {},
   "source": [
    "Create a line plot showing the number of marriages and divorces per capita in the U.S. between 1867 and 2014. Label both lines and show the legend.\n",
    "Don't forget to label your axes!"
   ]
  },
  {
   "cell_type": "code",
   "execution_count": 29,
   "id": "2eb6f6b4",
   "metadata": {},
   "outputs": [
    {
     "data": {
      "image/png": "[encoded data removed]",
      "text/plain": [
       "<Figure size 800x500 with 1 Axes>"
      ]
     },
     "metadata": {},
     "output_type": "display_data"
    }
   ],
   "source": [
    "import pandas as pd\n",
    "import matplotlib.pyplot as plt\n",
    "\n",
    "# Loading the dataset\n",
    "data = pd.read_csv(r'C:\\Users\\User\\Downloads\\Data_Programming\\us-marriages-divorces-1867-2014.csv')\n",
    "\n",
    "# Extracting necessary columns\n",
    "years = data['Year']\n",
    "marriages_per_1000 = data['Marriages_per_1000']\n",
    "divorces_per_1000 = data['Divorces_per_1000']\n",
    "\n",
    "# Plotting the data \n",
    "plt.figure(figsize=(8, 5))\n",
    "plt.plot(years, marriages_per_1000, label='Marriages per 1000', color='green')\n",
    "plt.plot(years, divorces_per_1000, label='Divorces per 1000', color='blue')\n",
    "plt.title('Number of Marriages and Divorces per Capita in the U.S. (1867 - 2014)')\n",
    "plt.xlabel('Year')\n",
    "plt.ylabel('Count per 1000')\n",
    "plt.legend()\n",
    "plt.grid(True)\n",
    "plt.show()\n",
    "\n"
   ]
  },
  {
   "cell_type": "markdown",
   "id": "77f0c040",
   "metadata": {},
   "source": [
    "# Question 7\n",
    "Create a vertical bar chart comparing the number of marriages and divorces per capita in the U.S. between 1900, 1950, and 2000.\n",
    "Don't forget to label your axes!"
   ]
  },
  {
   "cell_type": "code",
   "execution_count": 30,
   "id": "42c060d2",
   "metadata": {},
   "outputs": [
    {
     "data": {
      "image/png": "[encoded data removed]",
      "text/plain": [
       "<Figure size 800x400 with 1 Axes>"
      ]
     },
     "metadata": {},
     "output_type": "display_data"
    }
   ],
   "source": [
    "import pandas as pd\n",
    "import matplotlib.pyplot as plt\n",
    "\n",
    "data = pd.read_csv(r'C:\\Users\\User\\Downloads\\Data_Programming\\us-marriages-divorces-1867-2014.csv')\n",
    "\n",
    "# Filter data for the years 1900, 1950, and 2000\n",
    "years = [1900, 1950, 2000]\n",
    "filtered_data = data[data['Year'].isin(years)]\n",
    "\n",
    "# Extracting necessary columns for the filtered years\n",
    "filtered_data = filtered_data[['Year', 'Marriages_per_1000', 'Divorces_per_1000']]\n",
    "filtered_data = filtered_data.set_index('Year')\n",
    "\n",
    "# Plotting the data\n",
    "filtered_data.plot(kind='bar', figsize=(8, 4))\n",
    "plt.title('Number of Marriages and Divorces per Capita in the U.S. (1900, 1950, 2000)')\n",
    "plt.xlabel('Year')\n",
    "plt.ylabel('Count per 1000')\n",
    "plt.legend(['Marriages per 1000', 'Divorces per 1000'])\n",
    "plt.xticks(rotation=0)\n",
    "plt.show()"
   ]
  },
  {
   "cell_type": "markdown",
   "id": "ae9445f0",
   "metadata": {},
   "source": [
    "# Question 8 \n",
    "\n",
    "Create a horizontal bar chart that compares the deadliest actors in Hollywood. Sort the actors by their kill count and label each bar with the corresponding actor's name. Don't forget to label your axes!"
   ]
  },
  {
   "cell_type": "code",
   "execution_count": 31,
   "id": "9a4bca23",
   "metadata": {},
   "outputs": [
    {
     "data": {
      "image/png": "[encoded data removed]",
      "text/plain": [
       "<Figure size 800x400 with 1 Axes>"
      ]
     },
     "metadata": {},
     "output_type": "display_data"
    }
   ],
   "source": [
    "import pandas as pd\n",
    "import matplotlib.pyplot as plt\n",
    "\n",
    "data = pd.read_csv('C:\\\\Users\\\\User\\\\Downloads\\\\Data_Programming\\\\actor_kill_counts.csv')\n",
    "\n",
    "# Sorting the data\n",
    "data = data.sort_values(by='Count', ascending=True)\n",
    "\n",
    "# Creating the horizontal bar chart\n",
    "plt.figure(figsize=(8, 4))\n",
    "plt.barh(data['Actor'], data['Count'], color='skyblue')\n",
    "plt.xlabel('Kill Count')\n",
    "plt.title('Deadliest Actors in Hollywood by Kill Count')\n",
    "plt.gca().invert_yaxis()  # Invert y-axis to display the highest count at the top\n",
    "\n",
    "# Labeling each bar\n",
    "for index, value in enumerate(data['Count']):\n",
    "    plt.text(value, index, str(value), va='center')\n",
    "\n",
    "plt.show()"
   ]
  },
  {
   "cell_type": "markdown",
   "id": "28060eb6",
   "metadata": {},
   "source": [
    "# Question 9\n",
    "Create a pie chart showing the fraction of all Roman Emperors that were assassinated."
   ]
  },
  {
   "cell_type": "code",
   "execution_count": 22,
   "id": "f2d68b3a",
   "metadata": {},
   "outputs": [
    {
     "data": {
      "image/png": "[encoded data removed]",
      "text/plain": [
       "<Figure size 500x500 with 1 Axes>"
      ]
     },
     "metadata": {},
     "output_type": "display_data"
    }
   ],
   "source": [
    "import pandas as pd\n",
    "import matplotlib.pyplot as plt\n",
    "\n",
    "# Load the dataset\n",
    "data = pd.read_csv('C:\\\\Users\\\\User\\\\Downloads\\\\Data_Programming\\\\roman-emperor-reigns.csv')\n",
    "\n",
    "# Count the occurrences of 'Assassinated' in the 'Cause_of_Death' column\n",
    "assassinated_count = data['Cause_of_Death'].value_counts()['Assassinated']\n",
    "\n",
    "# Count the total number of emperors\n",
    "total_emperors = len(data)\n",
    "\n",
    "# Percentage of emperors who were assassinated\n",
    "percentage_assassinated = (assassinated_count / total_emperors) * 100\n",
    "\n",
    "# Percentage of emperors who died from other causes\n",
    "percentage_other = 100 - percentage_assassinated\n",
    "\n",
    "# Create a pie chart\n",
    "labels = ['Assassinated', 'Other Causes']\n",
    "sizes = [percentage_assassinated, percentage_other]\n",
    "colors = ['lightcoral', 'lightskyblue']\n",
    "explode = (0.1, 0)  \n",
    "\n",
    "plt.figure(figsize=(5, 5))\n",
    "plt.pie(sizes, explode=explode, labels=labels, colors=colors, autopct='%1.1f%%', startangle=140)\n",
    "plt.axis('equal') \n",
    "plt.title('Percentage of Roman Emperors Assassinated')\n",
    "\n",
    "plt.show()\n"
   ]
  },
  {
   "cell_type": "markdown",
   "id": "147007e0",
   "metadata": {},
   "source": [
    "#  Question 10\n",
    "\n",
    "Create a scatter plot showing the relationship between the total revenue earned by arcades and the number of Computer Science PhDs awarded in the U.S. between 2000 and 2009."
   ]
  },
  {
   "cell_type": "code",
   "execution_count": 32,
   "id": "d76ba2e0",
   "metadata": {},
   "outputs": [
    {
     "data": {
      "image/png": "[encoded data removed]",
      "text/plain": [
       "<Figure size 800x400 with 1 Axes>"
      ]
     },
     "metadata": {},
     "output_type": "display_data"
    }
   ],
   "source": [
    "import pandas as pd\n",
    "import matplotlib.pyplot as plt\n",
    "\n",
    "data = pd.read_csv('C:\\\\Users\\\\User\\\\Downloads\\\\Data_Programming\\\\arcade-revenue-vs-cs-doctorates.csv')\n",
    "\n",
    "# Filter data for the years 2000 to 2009\n",
    "filtered_data = data[(data['Year'] >= 2000) & (data['Year'] <= 2009)]\n",
    "\n",
    "# Create a scatter plot\n",
    "plt.figure(figsize=(8, 4))\n",
    "sns.scatterplot(x='Total Arcade Revenue (billions)', y='Computer Science Doctorates Awarded (US)', hue='Year', data=filtered_data, palette='viridis')\n",
    "\n",
    "plt.title('Relationship Between Arcade Revenue and CS PhDs (2000-2009)')\n",
    "plt.xlabel('Total Arcade Revenue (billions)')\n",
    "plt.ylabel('Computer Science Doctorates Awarded (US)')\n",
    "plt.legend(title='Year', bbox_to_anchor=(1.05, 1), loc='upper left')\n",
    "plt.grid(True)\n",
    "plt.show()\n",
    "\n",
    "\n"
   ]
  },
  {
   "cell_type": "code",
   "execution_count": null,
   "id": "fe2072ae",
   "metadata": {},
   "outputs": [],
   "source": []
  }
 ],
 "metadata": {
  "kernelspec": {
   "display_name": "Python 3 (ipykernel)",
   "language": "python",
   "name": "python3"
  },
  "language_info": {
   "codemirror_mode": {
    "name": "ipython",
    "version": 3
   },
   "file_extension": ".py",
   "mimetype": "text/x-python",
   "name": "python",
   "nbconvert_exporter": "python",
   "pygments_lexer": "ipython3",
   "version": "3.11.4"
  }
 },
 "nbformat": 4,
 "nbformat_minor": 5
}
